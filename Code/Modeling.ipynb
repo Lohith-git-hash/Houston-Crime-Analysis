{
 "cells": [
  {
   "cell_type": "markdown",
   "id": "e875f4dc-549e-4072-ba0d-59e993a70cec",
   "metadata": {},
   "source": [
    "## Performing modeling on the houston crime dataset."
   ]
  },
  {
   "cell_type": "markdown",
   "id": "9fcaf6bc-7edc-4ccb-a5b3-4a59ce87f8bb",
   "metadata": {},
   "source": [
    "The models used for our classification are:\n",
    "\n",
    "* Random Forest\n",
    "* KNN \n",
    "* ADABoost Classifier\n",
    "* XGBoost"
   ]
  },
  {
   "cell_type": "code",
   "execution_count": 1,
   "id": "85186a54-349a-49c6-bb1b-4c5ecbaca9e5",
   "metadata": {},
   "outputs": [],
   "source": [
    "import pandas as pd\n",
    "import numpy as np\n",
    "from sklearn.model_selection import train_test_split\n",
    "from sklearn.ensemble import RandomForestClassifier\n",
    "from sklearn.metrics import balanced_accuracy_score"
   ]
  },
  {
   "cell_type": "code",
   "execution_count": 2,
   "id": "98fc5f16-5659-404e-8bed-5aac1341f126",
   "metadata": {},
   "outputs": [],
   "source": [
    "df = pd.read_csv(\"/Users/lohithramesh/Desktop/M.S in Data Science/Semester 2/Data Mining/Final Project/Houston-Crime-Analysis/Dataset/Dataset_after_preprocessing.csv\")"
   ]
  },
  {
   "cell_type": "code",
   "execution_count": 3,
   "id": "0cb57d16-2fc6-45e7-9b5f-c42abaf16543",
   "metadata": {},
   "outputs": [
    {
     "data": {
      "text/html": [
       "<div>\n",
       "<style scoped>\n",
       "    .dataframe tbody tr th:only-of-type {\n",
       "        vertical-align: middle;\n",
       "    }\n",
       "\n",
       "    .dataframe tbody tr th {\n",
       "        vertical-align: top;\n",
       "    }\n",
       "\n",
       "    .dataframe thead th {\n",
       "        text-align: right;\n",
       "    }\n",
       "</style>\n",
       "<table border=\"1\" class=\"dataframe\">\n",
       "  <thead>\n",
       "    <tr style=\"text-align: right;\">\n",
       "      <th></th>\n",
       "      <th>Incident</th>\n",
       "      <th>RMSOccurrenceDate</th>\n",
       "      <th>RMSOccurrenceHour</th>\n",
       "      <th>NIBRSClass</th>\n",
       "      <th>NIBRSDescription</th>\n",
       "      <th>OffenseCount</th>\n",
       "      <th>Beat</th>\n",
       "      <th>Premise</th>\n",
       "      <th>StreetName</th>\n",
       "      <th>City</th>\n",
       "      <th>...</th>\n",
       "      <th>AsianPercent</th>\n",
       "      <th>WhitePercent</th>\n",
       "      <th>MedianAge</th>\n",
       "      <th>AgeDepRatio</th>\n",
       "      <th>OldAgeDepRatio</th>\n",
       "      <th>ChildDepRatio</th>\n",
       "      <th>HomeOwnershipPercent</th>\n",
       "      <th>AverageEarnings</th>\n",
       "      <th>PovertyPercent</th>\n",
       "      <th>UnemploymentRate</th>\n",
       "    </tr>\n",
       "  </thead>\n",
       "  <tbody>\n",
       "    <tr>\n",
       "      <th>0</th>\n",
       "      <td>5619</td>\n",
       "      <td>2019-01-01</td>\n",
       "      <td>0</td>\n",
       "      <td>290</td>\n",
       "      <td>Destruction, damage, vandalism</td>\n",
       "      <td>1</td>\n",
       "      <td>9C30</td>\n",
       "      <td>Residence, Home (Includes Apartment)</td>\n",
       "      <td>SAN CARLOS</td>\n",
       "      <td>HOUSTON</td>\n",
       "      <td>...</td>\n",
       "      <td>0.79</td>\n",
       "      <td>36.00</td>\n",
       "      <td>34.2</td>\n",
       "      <td>60.0</td>\n",
       "      <td>17.1</td>\n",
       "      <td>43.0</td>\n",
       "      <td>43.1</td>\n",
       "      <td>31541.0</td>\n",
       "      <td>27.12</td>\n",
       "      <td>0.106</td>\n",
       "    </tr>\n",
       "    <tr>\n",
       "      <th>1</th>\n",
       "      <td>17319</td>\n",
       "      <td>2019-01-01</td>\n",
       "      <td>0</td>\n",
       "      <td>35A</td>\n",
       "      <td>Drug, narcotic violations</td>\n",
       "      <td>1</td>\n",
       "      <td>7C10</td>\n",
       "      <td>Highway, Road, Street, Alley</td>\n",
       "      <td>EAST</td>\n",
       "      <td>HOUSTON</td>\n",
       "      <td>...</td>\n",
       "      <td>1.17</td>\n",
       "      <td>18.17</td>\n",
       "      <td>35.7</td>\n",
       "      <td>59.9</td>\n",
       "      <td>21.2</td>\n",
       "      <td>38.7</td>\n",
       "      <td>51.8</td>\n",
       "      <td>34278.0</td>\n",
       "      <td>27.89</td>\n",
       "      <td>0.088</td>\n",
       "    </tr>\n",
       "    <tr>\n",
       "      <th>2</th>\n",
       "      <td>17319</td>\n",
       "      <td>2019-01-01</td>\n",
       "      <td>0</td>\n",
       "      <td>90D</td>\n",
       "      <td>Driving under the influence</td>\n",
       "      <td>1</td>\n",
       "      <td>7C10</td>\n",
       "      <td>Highway, Road, Street, Alley</td>\n",
       "      <td>EAST</td>\n",
       "      <td>HOUSTON</td>\n",
       "      <td>...</td>\n",
       "      <td>1.17</td>\n",
       "      <td>18.17</td>\n",
       "      <td>35.7</td>\n",
       "      <td>59.9</td>\n",
       "      <td>21.2</td>\n",
       "      <td>38.7</td>\n",
       "      <td>51.8</td>\n",
       "      <td>34278.0</td>\n",
       "      <td>27.89</td>\n",
       "      <td>0.088</td>\n",
       "    </tr>\n",
       "    <tr>\n",
       "      <th>3</th>\n",
       "      <td>18119</td>\n",
       "      <td>2019-01-01</td>\n",
       "      <td>0</td>\n",
       "      <td>290</td>\n",
       "      <td>Destruction, damage, vandalism</td>\n",
       "      <td>1</td>\n",
       "      <td>16E40</td>\n",
       "      <td>Residence, Home (Includes Apartment)</td>\n",
       "      <td>LONE QUAIL</td>\n",
       "      <td>HOUSTON</td>\n",
       "      <td>...</td>\n",
       "      <td>3.48</td>\n",
       "      <td>15.68</td>\n",
       "      <td>36.5</td>\n",
       "      <td>61.7</td>\n",
       "      <td>21.4</td>\n",
       "      <td>40.3</td>\n",
       "      <td>74.7</td>\n",
       "      <td>41145.0</td>\n",
       "      <td>9.38</td>\n",
       "      <td>0.070</td>\n",
       "    </tr>\n",
       "    <tr>\n",
       "      <th>4</th>\n",
       "      <td>20519</td>\n",
       "      <td>2019-01-01</td>\n",
       "      <td>0</td>\n",
       "      <td>13A</td>\n",
       "      <td>Aggravated Assault</td>\n",
       "      <td>1</td>\n",
       "      <td>15E30</td>\n",
       "      <td>Residence, Home (Includes Apartment)</td>\n",
       "      <td>OSBY</td>\n",
       "      <td>HOUSTON</td>\n",
       "      <td>...</td>\n",
       "      <td>17.75</td>\n",
       "      <td>51.15</td>\n",
       "      <td>37.8</td>\n",
       "      <td>55.1</td>\n",
       "      <td>24.6</td>\n",
       "      <td>30.5</td>\n",
       "      <td>40.1</td>\n",
       "      <td>66370.0</td>\n",
       "      <td>11.10</td>\n",
       "      <td>0.041</td>\n",
       "    </tr>\n",
       "  </tbody>\n",
       "</table>\n",
       "<p>5 rows × 28 columns</p>\n",
       "</div>"
      ],
      "text/plain": [
       "   Incident RMSOccurrenceDate  RMSOccurrenceHour NIBRSClass  \\\n",
       "0      5619        2019-01-01                  0        290   \n",
       "1     17319        2019-01-01                  0        35A   \n",
       "2     17319        2019-01-01                  0        90D   \n",
       "3     18119        2019-01-01                  0        290   \n",
       "4     20519        2019-01-01                  0        13A   \n",
       "\n",
       "                 NIBRSDescription  OffenseCount   Beat  \\\n",
       "0  Destruction, damage, vandalism             1   9C30   \n",
       "1       Drug, narcotic violations             1   7C10   \n",
       "2     Driving under the influence             1   7C10   \n",
       "3  Destruction, damage, vandalism             1  16E40   \n",
       "4              Aggravated Assault             1  15E30   \n",
       "\n",
       "                                Premise  StreetName     City  ...  \\\n",
       "0  Residence, Home (Includes Apartment)  SAN CARLOS  HOUSTON  ...   \n",
       "1          Highway, Road, Street, Alley        EAST  HOUSTON  ...   \n",
       "2          Highway, Road, Street, Alley        EAST  HOUSTON  ...   \n",
       "3  Residence, Home (Includes Apartment)  LONE QUAIL  HOUSTON  ...   \n",
       "4  Residence, Home (Includes Apartment)        OSBY  HOUSTON  ...   \n",
       "\n",
       "   AsianPercent  WhitePercent  MedianAge  AgeDepRatio  OldAgeDepRatio  \\\n",
       "0          0.79         36.00       34.2         60.0            17.1   \n",
       "1          1.17         18.17       35.7         59.9            21.2   \n",
       "2          1.17         18.17       35.7         59.9            21.2   \n",
       "3          3.48         15.68       36.5         61.7            21.4   \n",
       "4         17.75         51.15       37.8         55.1            24.6   \n",
       "\n",
       "  ChildDepRatio  HomeOwnershipPercent  AverageEarnings  PovertyPercent  \\\n",
       "0          43.0                  43.1          31541.0           27.12   \n",
       "1          38.7                  51.8          34278.0           27.89   \n",
       "2          38.7                  51.8          34278.0           27.89   \n",
       "3          40.3                  74.7          41145.0            9.38   \n",
       "4          30.5                  40.1          66370.0           11.10   \n",
       "\n",
       "   UnemploymentRate  \n",
       "0             0.106  \n",
       "1             0.088  \n",
       "2             0.088  \n",
       "3             0.070  \n",
       "4             0.041  \n",
       "\n",
       "[5 rows x 28 columns]"
      ]
     },
     "execution_count": 3,
     "metadata": {},
     "output_type": "execute_result"
    }
   ],
   "source": [
    "df.head()"
   ]
  },
  {
   "cell_type": "code",
   "execution_count": 4,
   "id": "15cbf1ea-9f6c-4d49-b912-3d40b7eeaab0",
   "metadata": {},
   "outputs": [
    {
     "name": "stdout",
     "output_type": "stream",
     "text": [
      "<class 'pandas.core.frame.DataFrame'>\n",
      "RangeIndex: 1255714 entries, 0 to 1255713\n",
      "Data columns (total 28 columns):\n",
      " #   Column                Non-Null Count    Dtype  \n",
      "---  ------                --------------    -----  \n",
      " 0   Incident              1255714 non-null  int64  \n",
      " 1   RMSOccurrenceDate     1255714 non-null  object \n",
      " 2   RMSOccurrenceHour     1255714 non-null  int64  \n",
      " 3   NIBRSClass            1255714 non-null  object \n",
      " 4   NIBRSDescription      1255714 non-null  object \n",
      " 5   OffenseCount          1255714 non-null  int64  \n",
      " 6   Beat                  1255714 non-null  object \n",
      " 7   Premise               1255714 non-null  object \n",
      " 8   StreetName            1255714 non-null  object \n",
      " 9   City                  1255714 non-null  object \n",
      " 10  ZIPCode               1255714 non-null  int64  \n",
      " 11  MapLongitude          1255714 non-null  float64\n",
      " 12  MapLatitude           1255714 non-null  float64\n",
      " 13  month                 1255714 non-null  int64  \n",
      " 14  year                  1255714 non-null  int64  \n",
      " 15  Region                1255714 non-null  object \n",
      " 16  Population            1255714 non-null  float64\n",
      " 17  BlackPercent          1255714 non-null  float64\n",
      " 18  AsianPercent          1255714 non-null  float64\n",
      " 19  WhitePercent          1255714 non-null  float64\n",
      " 20  MedianAge             1255714 non-null  float64\n",
      " 21  AgeDepRatio           1255714 non-null  float64\n",
      " 22  OldAgeDepRatio        1255714 non-null  float64\n",
      " 23  ChildDepRatio         1255714 non-null  float64\n",
      " 24  HomeOwnershipPercent  1255714 non-null  float64\n",
      " 25  AverageEarnings       1255714 non-null  float64\n",
      " 26  PovertyPercent        1255714 non-null  float64\n",
      " 27  UnemploymentRate      1255714 non-null  float64\n",
      "dtypes: float64(14), int64(6), object(8)\n",
      "memory usage: 268.2+ MB\n"
     ]
    }
   ],
   "source": [
    "df.info()"
   ]
  },
  {
   "cell_type": "code",
   "execution_count": 5,
   "id": "5640f30a-dd33-4825-b846-e4209c8badcc",
   "metadata": {},
   "outputs": [
    {
     "data": {
      "text/plain": [
       "array(['Northeast Division - District 7,8,9',\n",
       "       'Southwest Division - District 15,16',\n",
       "       'Southeast Division - District 13,14',\n",
       "       'North Division - District 3,6',\n",
       "       'Westside Division - District 19,20',\n",
       "       'Northwest Division - District 4,5',\n",
       "       'South Central Division - District 10',\n",
       "       'Eastside Division - District 1',\n",
       "       'Central Division - District 1,2',\n",
       "       'South Gesner Division - District 17',\n",
       "       'Clear Lake Division - District 12',\n",
       "       'Midwest Division - District 18', 'Downtown Division - District 1',\n",
       "       'NorthBelt Division - District 22',\n",
       "       'Kingwod Division - District 24',\n",
       "       'Airport-IAH Division - District 21',\n",
       "       'Airport-Hoby Division - District 23', 'OOJ',\n",
       "       'Harris County Constable’s Office Precinct 5',\n",
       "       'Harris County Sheriffs Office'], dtype=object)"
      ]
     },
     "execution_count": 5,
     "metadata": {},
     "output_type": "execute_result"
    }
   ],
   "source": [
    "df['Region'].unique()"
   ]
  },
  {
   "cell_type": "code",
   "execution_count": 6,
   "id": "14dea361-96fe-488e-a62e-98a0e25b39cc",
   "metadata": {},
   "outputs": [],
   "source": [
    "crime_rate_by_region = {}\n",
    "for index, row in df.iterrows():\n",
    "    region = row['Region']\n",
    "    if region not in crime_rate_by_region:\n",
    "        crime_rate_by_region[region] = row['OffenseCount']\n",
    "    else:\n",
    "        crime_rate_by_region[region] += row['OffenseCount']"
   ]
  },
  {
   "cell_type": "code",
   "execution_count": 7,
   "id": "456136b9-bfc1-4f80-805c-36a861467f88",
   "metadata": {},
   "outputs": [
    {
     "data": {
      "text/plain": [
       "{'Northeast Division - District 7,8,9': 132918,\n",
       " 'Southwest Division - District 15,16': 90863,\n",
       " 'Southeast Division - District 13,14': 111685,\n",
       " 'North Division - District 3,6': 126415,\n",
       " 'Westside Division - District 19,20': 170536,\n",
       " 'Northwest Division - District 4,5': 75821,\n",
       " 'South Central Division - District 10': 76065,\n",
       " 'Eastside Division - District 1': 38625,\n",
       " 'Central Division - District 1,2': 122156,\n",
       " 'South Gesner Division - District 17': 74117,\n",
       " 'Clear Lake Division - District 12': 63406,\n",
       " 'Midwest Division - District 18': 101960,\n",
       " 'Downtown Division - District 1': 20873,\n",
       " 'NorthBelt Division - District 22': 66777,\n",
       " 'Kingwod Division - District 24': 15156,\n",
       " 'Airport-IAH Division - District 21': 7948,\n",
       " 'Airport-Hoby Division - District 23': 2085,\n",
       " 'OOJ': 839,\n",
       " 'Harris County Constable’s Office Precinct 5': 37,\n",
       " 'Harris County Sheriffs Office': 44}"
      ]
     },
     "execution_count": 7,
     "metadata": {},
     "output_type": "execute_result"
    }
   ],
   "source": [
    "crime_rate_by_region"
   ]
  },
  {
   "cell_type": "code",
   "execution_count": 8,
   "id": "53f3eead-2d0b-4eb7-b229-a9d1ec139aea",
   "metadata": {},
   "outputs": [],
   "source": [
    "total_offenses = sum(crime_rate_by_region.values())\n",
    "\n",
    "crime_percentage_by_region = {}\n",
    "\n",
    "for region, offenses in crime_rate_by_region.items():\n",
    "    percentage = (offenses / total_offenses) * 100\n",
    "    crime_percentage_by_region[region] = percentage"
   ]
  },
  {
   "cell_type": "code",
   "execution_count": 9,
   "id": "476e239b-c8c0-4b97-b55d-95e21588231e",
   "metadata": {},
   "outputs": [
    {
     "data": {
      "text/plain": [
       "{'Northeast Division - District 7,8,9': 10.23764447450024,\n",
       " 'Southwest Division - District 15,16': 6.998473418848579,\n",
       " 'Southeast Division - District 13,14': 8.602230872677588,\n",
       " 'North Division - District 3,6': 9.736768731428008,\n",
       " 'Westside Division - District 19,20': 13.13506777188472,\n",
       " 'Northwest Division - District 4,5': 5.8399046156358265,\n",
       " 'South Central Division - District 10': 5.8586980465614955,\n",
       " 'Eastside Division - District 1': 2.974984711081808,\n",
       " 'Central Division - District 1,2': 9.408730935065615,\n",
       " 'South Gesner Division - District 17': 5.708658688187712,\n",
       " 'Clear Lake Division - District 12': 4.883673283905583,\n",
       " 'Midwest Division - District 18': 7.853189414677053,\n",
       " 'Downtown Division - District 1': 1.6076855889815038,\n",
       " 'NorthBelt Division - District 22': 5.143315315259804,\n",
       " 'Kingwod Division - District 24': 1.1673493406124502,\n",
       " 'Airport-IAH Division - District 21': 0.6121729057262968,\n",
       " 'Airport-Hoby Division - District 23': 0.16059140770499858,\n",
       " 'OOJ': 0.06462167437145987,\n",
       " 'Harris County Constable’s Office Precinct 5': 0.002849823542007169,\n",
       " 'Harris County Sheriffs Office': 0.0033889793472517684}"
      ]
     },
     "execution_count": 9,
     "metadata": {},
     "output_type": "execute_result"
    }
   ],
   "source": [
    "crime_percentage_by_region"
   ]
  },
  {
   "cell_type": "code",
   "execution_count": 10,
   "id": "f3bf45cb-3690-419e-9e0a-f8fdc0f37363",
   "metadata": {},
   "outputs": [],
   "source": [
    "def get_crime_percentage(region):\n",
    "    return crime_percentage_by_region.get(region, 0.0)\n",
    "\n",
    "# Add a new column 'crime_percentage' to the DataFrame\n",
    "df['crime_percentage'] = df['Region'].apply(get_crime_percentage)"
   ]
  },
  {
   "cell_type": "code",
   "execution_count": 11,
   "id": "baf21199-e903-4f0a-92c2-bf29826c63a8",
   "metadata": {},
   "outputs": [
    {
     "data": {
      "text/html": [
       "<div>\n",
       "<style scoped>\n",
       "    .dataframe tbody tr th:only-of-type {\n",
       "        vertical-align: middle;\n",
       "    }\n",
       "\n",
       "    .dataframe tbody tr th {\n",
       "        vertical-align: top;\n",
       "    }\n",
       "\n",
       "    .dataframe thead th {\n",
       "        text-align: right;\n",
       "    }\n",
       "</style>\n",
       "<table border=\"1\" class=\"dataframe\">\n",
       "  <thead>\n",
       "    <tr style=\"text-align: right;\">\n",
       "      <th></th>\n",
       "      <th>Incident</th>\n",
       "      <th>RMSOccurrenceDate</th>\n",
       "      <th>RMSOccurrenceHour</th>\n",
       "      <th>NIBRSClass</th>\n",
       "      <th>NIBRSDescription</th>\n",
       "      <th>OffenseCount</th>\n",
       "      <th>Beat</th>\n",
       "      <th>Premise</th>\n",
       "      <th>StreetName</th>\n",
       "      <th>City</th>\n",
       "      <th>...</th>\n",
       "      <th>WhitePercent</th>\n",
       "      <th>MedianAge</th>\n",
       "      <th>AgeDepRatio</th>\n",
       "      <th>OldAgeDepRatio</th>\n",
       "      <th>ChildDepRatio</th>\n",
       "      <th>HomeOwnershipPercent</th>\n",
       "      <th>AverageEarnings</th>\n",
       "      <th>PovertyPercent</th>\n",
       "      <th>UnemploymentRate</th>\n",
       "      <th>crime_percentage</th>\n",
       "    </tr>\n",
       "  </thead>\n",
       "  <tbody>\n",
       "    <tr>\n",
       "      <th>0</th>\n",
       "      <td>5619</td>\n",
       "      <td>2019-01-01</td>\n",
       "      <td>0</td>\n",
       "      <td>290</td>\n",
       "      <td>Destruction, damage, vandalism</td>\n",
       "      <td>1</td>\n",
       "      <td>9C30</td>\n",
       "      <td>Residence, Home (Includes Apartment)</td>\n",
       "      <td>SAN CARLOS</td>\n",
       "      <td>HOUSTON</td>\n",
       "      <td>...</td>\n",
       "      <td>36.00</td>\n",
       "      <td>34.2</td>\n",
       "      <td>60.0</td>\n",
       "      <td>17.1</td>\n",
       "      <td>43.0</td>\n",
       "      <td>43.1</td>\n",
       "      <td>31541.0</td>\n",
       "      <td>27.12</td>\n",
       "      <td>0.106</td>\n",
       "      <td>10.237644</td>\n",
       "    </tr>\n",
       "    <tr>\n",
       "      <th>1</th>\n",
       "      <td>17319</td>\n",
       "      <td>2019-01-01</td>\n",
       "      <td>0</td>\n",
       "      <td>35A</td>\n",
       "      <td>Drug, narcotic violations</td>\n",
       "      <td>1</td>\n",
       "      <td>7C10</td>\n",
       "      <td>Highway, Road, Street, Alley</td>\n",
       "      <td>EAST</td>\n",
       "      <td>HOUSTON</td>\n",
       "      <td>...</td>\n",
       "      <td>18.17</td>\n",
       "      <td>35.7</td>\n",
       "      <td>59.9</td>\n",
       "      <td>21.2</td>\n",
       "      <td>38.7</td>\n",
       "      <td>51.8</td>\n",
       "      <td>34278.0</td>\n",
       "      <td>27.89</td>\n",
       "      <td>0.088</td>\n",
       "      <td>10.237644</td>\n",
       "    </tr>\n",
       "    <tr>\n",
       "      <th>2</th>\n",
       "      <td>17319</td>\n",
       "      <td>2019-01-01</td>\n",
       "      <td>0</td>\n",
       "      <td>90D</td>\n",
       "      <td>Driving under the influence</td>\n",
       "      <td>1</td>\n",
       "      <td>7C10</td>\n",
       "      <td>Highway, Road, Street, Alley</td>\n",
       "      <td>EAST</td>\n",
       "      <td>HOUSTON</td>\n",
       "      <td>...</td>\n",
       "      <td>18.17</td>\n",
       "      <td>35.7</td>\n",
       "      <td>59.9</td>\n",
       "      <td>21.2</td>\n",
       "      <td>38.7</td>\n",
       "      <td>51.8</td>\n",
       "      <td>34278.0</td>\n",
       "      <td>27.89</td>\n",
       "      <td>0.088</td>\n",
       "      <td>10.237644</td>\n",
       "    </tr>\n",
       "    <tr>\n",
       "      <th>3</th>\n",
       "      <td>18119</td>\n",
       "      <td>2019-01-01</td>\n",
       "      <td>0</td>\n",
       "      <td>290</td>\n",
       "      <td>Destruction, damage, vandalism</td>\n",
       "      <td>1</td>\n",
       "      <td>16E40</td>\n",
       "      <td>Residence, Home (Includes Apartment)</td>\n",
       "      <td>LONE QUAIL</td>\n",
       "      <td>HOUSTON</td>\n",
       "      <td>...</td>\n",
       "      <td>15.68</td>\n",
       "      <td>36.5</td>\n",
       "      <td>61.7</td>\n",
       "      <td>21.4</td>\n",
       "      <td>40.3</td>\n",
       "      <td>74.7</td>\n",
       "      <td>41145.0</td>\n",
       "      <td>9.38</td>\n",
       "      <td>0.070</td>\n",
       "      <td>6.998473</td>\n",
       "    </tr>\n",
       "    <tr>\n",
       "      <th>4</th>\n",
       "      <td>20519</td>\n",
       "      <td>2019-01-01</td>\n",
       "      <td>0</td>\n",
       "      <td>13A</td>\n",
       "      <td>Aggravated Assault</td>\n",
       "      <td>1</td>\n",
       "      <td>15E30</td>\n",
       "      <td>Residence, Home (Includes Apartment)</td>\n",
       "      <td>OSBY</td>\n",
       "      <td>HOUSTON</td>\n",
       "      <td>...</td>\n",
       "      <td>51.15</td>\n",
       "      <td>37.8</td>\n",
       "      <td>55.1</td>\n",
       "      <td>24.6</td>\n",
       "      <td>30.5</td>\n",
       "      <td>40.1</td>\n",
       "      <td>66370.0</td>\n",
       "      <td>11.10</td>\n",
       "      <td>0.041</td>\n",
       "      <td>6.998473</td>\n",
       "    </tr>\n",
       "  </tbody>\n",
       "</table>\n",
       "<p>5 rows × 29 columns</p>\n",
       "</div>"
      ],
      "text/plain": [
       "   Incident RMSOccurrenceDate  RMSOccurrenceHour NIBRSClass  \\\n",
       "0      5619        2019-01-01                  0        290   \n",
       "1     17319        2019-01-01                  0        35A   \n",
       "2     17319        2019-01-01                  0        90D   \n",
       "3     18119        2019-01-01                  0        290   \n",
       "4     20519        2019-01-01                  0        13A   \n",
       "\n",
       "                 NIBRSDescription  OffenseCount   Beat  \\\n",
       "0  Destruction, damage, vandalism             1   9C30   \n",
       "1       Drug, narcotic violations             1   7C10   \n",
       "2     Driving under the influence             1   7C10   \n",
       "3  Destruction, damage, vandalism             1  16E40   \n",
       "4              Aggravated Assault             1  15E30   \n",
       "\n",
       "                                Premise  StreetName     City  ...  \\\n",
       "0  Residence, Home (Includes Apartment)  SAN CARLOS  HOUSTON  ...   \n",
       "1          Highway, Road, Street, Alley        EAST  HOUSTON  ...   \n",
       "2          Highway, Road, Street, Alley        EAST  HOUSTON  ...   \n",
       "3  Residence, Home (Includes Apartment)  LONE QUAIL  HOUSTON  ...   \n",
       "4  Residence, Home (Includes Apartment)        OSBY  HOUSTON  ...   \n",
       "\n",
       "   WhitePercent  MedianAge  AgeDepRatio  OldAgeDepRatio  ChildDepRatio  \\\n",
       "0         36.00       34.2         60.0            17.1           43.0   \n",
       "1         18.17       35.7         59.9            21.2           38.7   \n",
       "2         18.17       35.7         59.9            21.2           38.7   \n",
       "3         15.68       36.5         61.7            21.4           40.3   \n",
       "4         51.15       37.8         55.1            24.6           30.5   \n",
       "\n",
       "  HomeOwnershipPercent  AverageEarnings  PovertyPercent  UnemploymentRate  \\\n",
       "0                 43.1          31541.0           27.12             0.106   \n",
       "1                 51.8          34278.0           27.89             0.088   \n",
       "2                 51.8          34278.0           27.89             0.088   \n",
       "3                 74.7          41145.0            9.38             0.070   \n",
       "4                 40.1          66370.0           11.10             0.041   \n",
       "\n",
       "   crime_percentage  \n",
       "0         10.237644  \n",
       "1         10.237644  \n",
       "2         10.237644  \n",
       "3          6.998473  \n",
       "4          6.998473  \n",
       "\n",
       "[5 rows x 29 columns]"
      ]
     },
     "execution_count": 11,
     "metadata": {},
     "output_type": "execute_result"
    }
   ],
   "source": [
    "df.head()"
   ]
  },
  {
   "cell_type": "code",
   "execution_count": 13,
   "id": "5eff2039-8236-46cb-93e3-b8364052e82e",
   "metadata": {},
   "outputs": [],
   "source": [
    "# Define a function to determine crime rate based on crime percentage\n",
    "def determine_crime_rate(crime_percentage):\n",
    "    if crime_percentage > 7:\n",
    "        return 'high crime'\n",
    "    else:\n",
    "        return 'low crime'\n",
    "\n",
    "# Apply the function to create the new 'crime_rate' column\n",
    "df['crime_rate'] = df['crime_percentage'].apply(lambda x: determine_crime_rate(x))"
   ]
  },
  {
   "cell_type": "code",
   "execution_count": 14,
   "id": "4884a1ef-5433-473e-bd05-260b712cbd18",
   "metadata": {},
   "outputs": [
    {
     "name": "stdout",
     "output_type": "stream",
     "text": [
      "High Crime Percentage: 58.935872340357754\n",
      "Low Crime Percentage: 41.06412765964224\n"
     ]
    }
   ],
   "source": [
    "# Total number of rows in the DataFrame\n",
    "total_rows = len(df)\n",
    "\n",
    "# Count the number of occurrences of 'high crime' and 'low crime'\n",
    "crime_rate_counts = df['crime_rate'].value_counts()\n",
    "\n",
    "# Calculate the percentage of total for each category\n",
    "high_crime_percentage = (crime_rate_counts.get('high crime', 0) / total_rows) * 100\n",
    "low_crime_percentage = (crime_rate_counts.get('low crime', 0) / total_rows) * 100\n",
    "\n",
    "# Print the percentages\n",
    "print(\"High Crime Percentage:\", high_crime_percentage)\n",
    "print(\"Low Crime Percentage:\", low_crime_percentage)"
   ]
  },
  {
   "cell_type": "code",
   "execution_count": 15,
   "id": "004ddcf8-3619-4ad0-9b45-bbab5397a131",
   "metadata": {},
   "outputs": [
    {
     "name": "stdout",
     "output_type": "stream",
     "text": [
      "<class 'pandas.core.frame.DataFrame'>\n",
      "RangeIndex: 1255714 entries, 0 to 1255713\n",
      "Data columns (total 30 columns):\n",
      " #   Column                Non-Null Count    Dtype  \n",
      "---  ------                --------------    -----  \n",
      " 0   Incident              1255714 non-null  int64  \n",
      " 1   RMSOccurrenceDate     1255714 non-null  object \n",
      " 2   RMSOccurrenceHour     1255714 non-null  int64  \n",
      " 3   NIBRSClass            1255714 non-null  object \n",
      " 4   NIBRSDescription      1255714 non-null  object \n",
      " 5   OffenseCount          1255714 non-null  int64  \n",
      " 6   Beat                  1255714 non-null  object \n",
      " 7   Premise               1255714 non-null  object \n",
      " 8   StreetName            1255714 non-null  object \n",
      " 9   City                  1255714 non-null  object \n",
      " 10  ZIPCode               1255714 non-null  int64  \n",
      " 11  MapLongitude          1255714 non-null  float64\n",
      " 12  MapLatitude           1255714 non-null  float64\n",
      " 13  month                 1255714 non-null  int64  \n",
      " 14  year                  1255714 non-null  int64  \n",
      " 15  Region                1255714 non-null  object \n",
      " 16  Population            1255714 non-null  float64\n",
      " 17  BlackPercent          1255714 non-null  float64\n",
      " 18  AsianPercent          1255714 non-null  float64\n",
      " 19  WhitePercent          1255714 non-null  float64\n",
      " 20  MedianAge             1255714 non-null  float64\n",
      " 21  AgeDepRatio           1255714 non-null  float64\n",
      " 22  OldAgeDepRatio        1255714 non-null  float64\n",
      " 23  ChildDepRatio         1255714 non-null  float64\n",
      " 24  HomeOwnershipPercent  1255714 non-null  float64\n",
      " 25  AverageEarnings       1255714 non-null  float64\n",
      " 26  PovertyPercent        1255714 non-null  float64\n",
      " 27  UnemploymentRate      1255714 non-null  float64\n",
      " 28  crime_percentage      1255714 non-null  float64\n",
      " 29  crime_rate            1255714 non-null  object \n",
      "dtypes: float64(15), int64(6), object(9)\n",
      "memory usage: 287.4+ MB\n"
     ]
    }
   ],
   "source": [
    "df.info()"
   ]
  },
  {
   "cell_type": "markdown",
   "id": "a5324f02-eac0-4685-ad68-d4972cd0cded",
   "metadata": {},
   "source": [
    "### Model - Random Forest"
   ]
  },
  {
   "cell_type": "code",
   "execution_count": 44,
   "id": "8584d501-981d-4df2-99f0-45e797974067",
   "metadata": {},
   "outputs": [
    {
     "name": "stdout",
     "output_type": "stream",
     "text": [
      "Accuracy: 0.9623131344985649\n",
      "F1 Score: 0.9622454394056024\n",
      "Precision: 0.9623500453196513\n",
      "\n",
      "Classification Report:\n",
      "              precision    recall  f1-score   support\n",
      "\n",
      "  high crime       0.96      0.98      0.97    184793\n",
      "   low crime       0.96      0.94      0.95    129136\n",
      "\n",
      "    accuracy                           0.96    313929\n",
      "   macro avg       0.96      0.96      0.96    313929\n",
      "weighted avg       0.96      0.96      0.96    313929\n",
      "\n",
      "\n",
      "Confusion Matrix:\n",
      " [[180336   4457]\n",
      " [  7374 121762]]\n"
     ]
    }
   ],
   "source": [
    "from sklearn.metrics import accuracy_score, classification_report, f1_score, precision_score\n",
    "\n",
    "# Make random forest classifier\n",
    "X = df[['ZIPCode','month','year','Population','BlackPercent', 'AsianPercent', 'WhitePercent', 'MedianAge', 'AgeDepRatio', 'OldAgeDepRatio', 'ChildDepRatio',\n",
    "          'HomeOwnershipPercent', 'AverageEarnings', 'PovertyPercent', 'UnemploymentRate']]\n",
    "y = df['crime_rate']  \n",
    "\n",
    "X_train, X_test, y_train, y_test = train_test_split(X, y, test_size=0.25, random_state=42)\n",
    "rf_classifier = RandomForestClassifier(n_estimators=100, random_state=42)\n",
    "rf_classifier.fit(X_train, y_train)\n",
    "y_pred = rf_classifier.predict(X_test)\n",
    "\n",
    "# Calculate classification metrics\n",
    "accuracy = accuracy_score(y_test, y_pred)\n",
    "f1 = f1_score(y_test, y_pred, average='weighted')\n",
    "precision = precision_score(y_test, y_pred, average='weighted')\n",
    "classification_report = classification_report(y_test, y_pred)\n",
    "\n",
    "print(\"Accuracy:\", accuracy)\n",
    "print(\"F1 Score:\", f1)\n",
    "print(\"Precision:\", precision)\n",
    "print(\"\\nClassification Report:\")\n",
    "print(classification_report)\n",
    "\n",
    "conf_matrix_rf = confusion_matrix(y_test, y_pred)\n",
    "print(\"\\nConfusion Matrix:\\n\", conf_matrix_rf)"
   ]
  },
  {
   "cell_type": "code",
   "execution_count": 24,
   "id": "e7bf30a7-9e72-4477-b951-a811e902396a",
   "metadata": {},
   "outputs": [
    {
     "name": "stdout",
     "output_type": "stream",
     "text": [
      "Balanced Accuracy: 0.9593892657600536\n"
     ]
    }
   ],
   "source": [
    "balanced_accuracy = balanced_accuracy_score(y_test, y_pred)\n",
    "print(\"Balanced Accuracy:\", balanced_accuracy)"
   ]
  },
  {
   "cell_type": "markdown",
   "id": "13e18c04-4289-479e-864e-cd26e575914d",
   "metadata": {},
   "source": [
    "### Model - KNN "
   ]
  },
  {
   "cell_type": "code",
   "execution_count": 45,
   "id": "57a4a306-e0ee-4dcd-b429-b31d80b26f1e",
   "metadata": {},
   "outputs": [
    {
     "name": "stdout",
     "output_type": "stream",
     "text": [
      "Accuracy: 0.9577889887434649\n",
      "\n",
      "Classification Report:\n",
      "               precision    recall  f1-score   support\n",
      "\n",
      "  high crime       0.96      0.97      0.96    147785\n",
      "   low crime       0.96      0.94      0.95    103358\n",
      "\n",
      "    accuracy                           0.96    251143\n",
      "   macro avg       0.96      0.95      0.96    251143\n",
      "weighted avg       0.96      0.96      0.96    251143\n",
      "\n",
      "\n",
      "Confusion Matrix:\n",
      " [[143466   4319]\n",
      " [  6282  97076]]\n"
     ]
    }
   ],
   "source": [
    "from sklearn.neighbors import KNeighborsClassifier\n",
    "from sklearn.metrics import accuracy_score, classification_report, confusion_matrix\n",
    "from sklearn.model_selection import train_test_split\n",
    "\n",
    "# Define features (X) and target variable (y)\n",
    "X = df[['ZIPCode','month','year','Population','BlackPercent', 'AsianPercent', 'WhitePercent', 'MedianAge', 'AgeDepRatio', 'OldAgeDepRatio', 'ChildDepRatio',\n",
    "          'HomeOwnershipPercent', 'AverageEarnings', 'PovertyPercent', 'UnemploymentRate']]\n",
    "y = df['crime_rate']\n",
    "\n",
    "# Split the data into training and testing sets\n",
    "X_train, X_test, y_train, y_test = train_test_split(X, y, test_size=0.2, random_state=42)\n",
    "\n",
    "# Initialize the KNN classifier with k=5\n",
    "knn_classifier = KNeighborsClassifier(n_neighbors=5)\n",
    "\n",
    "# Train the classifier\n",
    "knn_classifier.fit(X_train, y_train)\n",
    "\n",
    "# Make predictions on the test set\n",
    "y_pred = knn_classifier.predict(X_test)\n",
    "\n",
    "# Calculate accuracy\n",
    "accuracy = accuracy_score(y_test, y_pred)\n",
    "print(\"Accuracy:\", accuracy)\n",
    "\n",
    "# Generate classification report\n",
    "print(\"\\nClassification Report:\\n\", classification_report(y_test, y_pred))\n",
    "\n",
    "# Generate confusion matrix\n",
    "conf_matrix_knn = confusion_matrix(y_test, y_pred)\n",
    "print(\"\\nConfusion Matrix:\\n\", conf_matrix_knn)"
   ]
  },
  {
   "cell_type": "code",
   "execution_count": 21,
   "id": "efaa0c81-8495-4274-8914-bc187e4e8afe",
   "metadata": {},
   "outputs": [
    {
     "name": "stdout",
     "output_type": "stream",
     "text": [
      "Balanced Accuracy: 0.9541092950827463\n"
     ]
    }
   ],
   "source": [
    "balanced_accuracy = balanced_accuracy_score(y_test, y_pred)\n",
    "print(\"Balanced Accuracy:\", balanced_accuracy)"
   ]
  },
  {
   "cell_type": "markdown",
   "id": "cb59d9dc-72a1-4320-b233-66c1ad28786e",
   "metadata": {},
   "source": [
    "### Model - ADA Boost Classifer"
   ]
  },
  {
   "cell_type": "code",
   "execution_count": 46,
   "id": "23395bc6-2073-40d6-b1fa-a641803dff68",
   "metadata": {},
   "outputs": [
    {
     "name": "stderr",
     "output_type": "stream",
     "text": [
      "/Users/lohithramesh/anaconda3/lib/python3.11/site-packages/sklearn/ensemble/_weight_boosting.py:519: FutureWarning: The SAMME.R algorithm (the default) is deprecated and will be removed in 1.6. Use the SAMME algorithm to circumvent this warning.\n",
      "  warnings.warn(\n"
     ]
    },
    {
     "name": "stdout",
     "output_type": "stream",
     "text": [
      "Accuracy: 0.9605682818155393\n",
      "Classification Report:\n",
      "              precision    recall  f1-score   support\n",
      "\n",
      "  high crime       0.97      0.97      0.97    147785\n",
      "   low crime       0.95      0.95      0.95    103358\n",
      "\n",
      "    accuracy                           0.96    251143\n",
      "   macro avg       0.96      0.96      0.96    251143\n",
      "weighted avg       0.96      0.96      0.96    251143\n",
      "\n",
      "Confusion Matrix:\n",
      "[[142959   4826]\n",
      " [  5077  98281]]\n"
     ]
    }
   ],
   "source": [
    "from sklearn.ensemble import AdaBoostClassifier\n",
    "from sklearn.metrics import accuracy_score, classification_report, confusion_matrix\n",
    "from sklearn.model_selection import train_test_split\n",
    "\n",
    "# Define features (X) and target variable (y)\n",
    "X = df[['ZIPCode', 'month', 'year', 'Population', 'BlackPercent', 'AsianPercent', 'WhitePercent', 'MedianAge', 'AgeDepRatio', 'OldAgeDepRatio', 'ChildDepRatio', 'HomeOwnershipPercent', 'AverageEarnings', 'PovertyPercent', 'UnemploymentRate']]\n",
    "y = df['crime_rate']\n",
    "\n",
    "# Split the data into training and testing sets\n",
    "X_train, X_test, y_train, y_test = train_test_split(X, y, test_size=0.2, random_state=42)\n",
    "\n",
    "# Initialize the AdaBoost Classifier model\n",
    "ada_boost = AdaBoostClassifier(n_estimators=100, random_state=42)\n",
    "\n",
    "# Train the model\n",
    "ada_boost.fit(X_train, y_train)\n",
    "\n",
    "# Make predictions on the test data\n",
    "y_pred = ada_boost.predict(X_test)\n",
    "\n",
    "# Calculate accuracy\n",
    "accuracy = accuracy_score(y_test, y_pred)\n",
    "print(\"Accuracy:\", accuracy)\n",
    "\n",
    "# Generate and print the classification report\n",
    "print(\"Classification Report:\")\n",
    "print(classification_report(y_test, y_pred))\n",
    "\n",
    "# Generate and print the confusion matrix\n",
    "print(\"Confusion Matrix:\")\n",
    "conf_matrix_abc = confusion_matrix(y_test, y_pred)\n",
    "print(conf_matrix_abc)"
   ]
  },
  {
   "cell_type": "code",
   "execution_count": 34,
   "id": "42d4104e-65ae-4f83-af85-807b5d3d18aa",
   "metadata": {},
   "outputs": [
    {
     "name": "stdout",
     "output_type": "stream",
     "text": [
      "Balanced Accuracy: 0.9591119602862972\n"
     ]
    }
   ],
   "source": [
    "balanced_accuracy = balanced_accuracy_score(y_test, y_pred)\n",
    "print(\"Balanced Accuracy:\", balanced_accuracy)"
   ]
  },
  {
   "cell_type": "markdown",
   "id": "f22f2d42-4d36-4694-882f-ab5baf230e4b",
   "metadata": {},
   "source": [
    "### Model - XGBoost"
   ]
  },
  {
   "cell_type": "code",
   "execution_count": 47,
   "id": "c483e9ea-6bbc-4dde-a26e-fd2fd3026d08",
   "metadata": {},
   "outputs": [
    {
     "name": "stdout",
     "output_type": "stream",
     "text": [
      "Accuracy: 0.9621570181131865\n",
      "Classification Report:\n",
      "              precision    recall  f1-score   support\n",
      "\n",
      "           0       0.97      0.94      0.95    103358\n",
      "           1       0.96      0.98      0.97    147785\n",
      "\n",
      "    accuracy                           0.96    251143\n",
      "   macro avg       0.96      0.96      0.96    251143\n",
      "weighted avg       0.96      0.96      0.96    251143\n",
      "\n",
      "Confusion Matrix:\n",
      "[[ 97384   5974]\n",
      " [  3530 144255]]\n"
     ]
    }
   ],
   "source": [
    "import xgboost as xgb\n",
    "from sklearn.metrics import accuracy_score, classification_report, confusion_matrix\n",
    "from sklearn.model_selection import train_test_split\n",
    "\n",
    "df['crimeBinary'] = df['crime_rate'].apply(lambda x: 1 if x =='high crime' else 0)\n",
    "\n",
    "# Define features (X) and target variable (y)\n",
    "X = df[['ZIPCode', 'month', 'year', 'Population', 'BlackPercent', 'AsianPercent', 'WhitePercent', 'MedianAge', 'AgeDepRatio', 'OldAgeDepRatio', 'ChildDepRatio', 'HomeOwnershipPercent', 'AverageEarnings', 'PovertyPercent', 'UnemploymentRate']]\n",
    "y = df['crimeBinary']\n",
    "\n",
    "# Split the data into training and testing sets\n",
    "X_train, X_test, y_train, y_test = train_test_split(X, y, test_size=0.2, random_state=42)\n",
    "\n",
    "# Define XGBoost classifier\n",
    "xgb_classifier = xgb.XGBClassifier()\n",
    "\n",
    "# Train the classifier\n",
    "xgb_classifier.fit(X_train, y_train)\n",
    "\n",
    "# Make predictions on the test data\n",
    "y_pred = xgb_classifier.predict(X_test)\n",
    "\n",
    "# Calculate accuracy\n",
    "accuracy = accuracy_score(y_test, y_pred)\n",
    "print(\"Accuracy:\", accuracy)\n",
    "\n",
    "# Generate and print the classification report\n",
    "print(\"Classification Report:\")\n",
    "print(classification_report(y_test, y_pred))\n",
    "\n",
    "# Generate and print the confusion matrix\n",
    "print(\"Confusion Matrix:\")\n",
    "conf_matrix_xgb = confusion_matrix(y_test, y_pred)\n",
    "print(conf_matrix_xgb)"
   ]
  },
  {
   "cell_type": "code",
   "execution_count": 39,
   "id": "c2467a12-0549-4380-84ad-1e79dc064c3a",
   "metadata": {},
   "outputs": [
    {
     "name": "stdout",
     "output_type": "stream",
     "text": [
      "Balanced Accuracy: 0.9591574216492066\n"
     ]
    }
   ],
   "source": [
    "balanced_accuracy = balanced_accuracy_score(y_test, y_pred)\n",
    "print(\"Balanced Accuracy:\", balanced_accuracy)"
   ]
  },
  {
   "cell_type": "markdown",
   "id": "88e245fa-b652-4e69-ac45-fe368dd87ae0",
   "metadata": {},
   "source": [
    "### Confusion Matrix for all the models"
   ]
  },
  {
   "cell_type": "code",
   "execution_count": 54,
   "id": "b4676273-ef5d-4a36-975b-baf9a2529eab",
   "metadata": {},
   "outputs": [
    {
     "data": {
      "image/png": "[encoded data removed]",
      "text/plain": [
       "<Figure size 600x600 with 1 Axes>"
      ]
     },
     "metadata": {},
     "output_type": "display_data"
    },
    {
     "data": {
      "image/png": "[encoded data removed]",
      "text/plain": [
       "<Figure size 600x600 with 1 Axes>"
      ]
     },
     "metadata": {},
     "output_type": "display_data"
    },
    {
     "data": {
      "image/png": "[encoded data removed]",
      "text/plain": [
       "<Figure size 600x600 with 1 Axes>"
      ]
     },
     "metadata": {},
     "output_type": "display_data"
    },
    {
     "data": {
      "image/png": "[encoded data removed]",
      "text/plain": [
       "<Figure size 600x600 with 1 Axes>"
      ]
     },
     "metadata": {},
     "output_type": "display_data"
    }
   ],
   "source": [
    "import matplotlib.pyplot as plt\n",
    "import seaborn as sns\n",
    "import numpy as np\n",
    "\n",
    "# Define a function to plot confusion matrix for each model\n",
    "def plot_confusion_matrix(cm, model_name):\n",
    "    fig, ax = plt.subplots(figsize=(6, 6))\n",
    "    sns.heatmap(cm, annot=True, fmt='d', cmap='Blues', cbar=False,\n",
    "                xticklabels=['Low Crime', 'High Crime'],\n",
    "                yticklabels=['Low Crime', 'High Crime'],\n",
    "                annot_kws={\"color\": 'black'})  # Set default color to black\n",
    "\n",
    "    # Set TP and TN annotation color to white\n",
    "    for i in range(cm.shape[0]):\n",
    "        for j in range(cm.shape[1]):\n",
    "            if i == j:\n",
    "                text = ax.text(j + 0.5, i + 0.5, cm[i, j],\n",
    "                               ha=\"center\", va=\"center\", color=\"white\")\n",
    "            else:\n",
    "                text = ax.text(j + 0.5, i + 0.5, cm[i, j],\n",
    "                               ha=\"center\", va=\"center\", color=\"black\")\n",
    "\n",
    "    plt.ylabel('Actual')\n",
    "    plt.xlabel('Predicted')\n",
    "    plt.title(f'Confusion Matrix for {model_name}')\n",
    "    plt.show()\n",
    "\n",
    "# Plotting confusion matrix for each model\n",
    "plot_confusion_matrix(conf_matrix_rf, 'Random Forest')\n",
    "plot_confusion_matrix(conf_matrix_abc, 'ADA Boost Classifier')\n",
    "plot_confusion_matrix(conf_matrix_knn, 'KNN')\n",
    "plot_confusion_matrix(conf_matrix_xgb, 'XGBoost')"
   ]
  },
  {
   "cell_type": "markdown",
   "id": "8d3f6791-aba5-47ce-a0a0-6f16e14fdb4e",
   "metadata": {},
   "source": [
    "### Bar plot for comparison of Precision, Recall and F1-Score"
   ]
  },
  {
   "cell_type": "code",
   "execution_count": 55,
   "id": "11e90ad9-9498-4c95-a66d-96bf1fd9e706",
   "metadata": {},
   "outputs": [
    {
     "name": "stderr",
     "output_type": "stream",
     "text": [
      "/Users/lohithramesh/anaconda3/lib/python3.11/site-packages/sklearn/ensemble/_weight_boosting.py:519: FutureWarning: The SAMME.R algorithm (the default) is deprecated and will be removed in 1.6. Use the SAMME algorithm to circumvent this warning.\n",
      "  warnings.warn(\n"
     ]
    },
    {
     "data": {
      "image/png": "[encoded data removed]",
      "text/plain": [
       "<Figure size 1000x1500 with 3 Axes>"
      ]
     },
     "metadata": {},
     "output_type": "display_data"
    }
   ],
   "source": [
    "import seaborn as sns\n",
    "import matplotlib.pyplot as plt\n",
    "from sklearn.metrics import precision_score, recall_score, f1_score\n",
    "\n",
    "# List of models\n",
    "models = [\n",
    "    ('Random Forest', rf_classifier),\n",
    "    ('KNN', knn_classifier),\n",
    "    ('ADA Boost Classifier', ada_boost),\n",
    "    ('XGBoost', xgb_classifier)\n",
    "]\n",
    "\n",
    "# Dictionary to store metrics\n",
    "metrics = {'Model': [], 'Precision': [], 'Recall': [], 'F1-Score': []}\n",
    "\n",
    "# Train and evaluate each model\n",
    "for name, model in models:\n",
    "    # Train the model\n",
    "    model.fit(X_train, y_train)\n",
    "    \n",
    "    # Make predictions on the test data\n",
    "    y_pred = model.predict(X_test)\n",
    "    \n",
    "    # Calculate metrics\n",
    "    precision = precision_score(y_test, y_pred, average='weighted')\n",
    "    recall = recall_score(y_test, y_pred, average='weighted')\n",
    "    f1 = f1_score(y_test, y_pred, average='weighted')\n",
    "    \n",
    "    # Store metrics\n",
    "    metrics['Model'].append(name)\n",
    "    metrics['Precision'].append(precision)\n",
    "    metrics['Recall'].append(recall)\n",
    "    metrics['F1-Score'].append(f1)\n",
    "\n",
    "# Create DataFrame from metrics\n",
    "metrics_df = pd.DataFrame(metrics)\n",
    "\n",
    "# Plotting Precision, Recall, and F1-Score\n",
    "fig, ax = plt.subplots(3, 1, figsize=(10, 15))\n",
    "\n",
    "# Precision Plot\n",
    "sns.barplot(x='Precision', y='Model', data=metrics_df, ax=ax[0], palette='viridis')\n",
    "ax[0].set_title('Precision Comparison')\n",
    "\n",
    "# Recall Plot\n",
    "sns.barplot(x='Recall', y='Model', data=metrics_df, ax=ax[1], palette='magma')\n",
    "ax[1].set_title('Recall Comparison')\n",
    "\n",
    "# F1-Score Plot\n",
    "sns.barplot(x='F1-Score', y='Model', data=metrics_df, ax=ax[2], palette='cubehelix')\n",
    "ax[2].set_title('F1-Score Comparison')\n",
    "\n",
    "plt.tight_layout()\n",
    "plt.show()"
   ]
  },
  {
   "cell_type": "code",
   "execution_count": null,
   "id": "297c654f-6ed0-4718-a366-f195d2539edf",
   "metadata": {},
   "outputs": [],
   "source": []
  }
 ],
 "metadata": {
  "kernelspec": {
   "display_name": "Python 3 (ipykernel)",
   "language": "python",
   "name": "python3"
  },
  "language_info": {
   "codemirror_mode": {
    "name": "ipython",
    "version": 3
   },
   "file_extension": ".py",
   "mimetype": "text/x-python",
   "name": "python",
   "nbconvert_exporter": "python",
   "pygments_lexer": "ipython3",
   "version": "3.11.8"
  }
 },
 "nbformat": 4,
 "nbformat_minor": 5
}
